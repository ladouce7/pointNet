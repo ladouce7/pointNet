{
 "cells": [
  {
   "cell_type": "markdown",
   "id": "83e4db6f",
   "metadata": {},
   "source": [
    "# Building a CABLE NEWS NETWORK"
   ]
  },
  {
   "cell_type": "code",
   "execution_count": 1,
   "id": "648547e4",
   "metadata": {},
   "outputs": [],
   "source": [
    "import os\n",
    "import tensorflow as tf\n",
    "import h5py\n",
    "import matplotlib.pyplot as plt\n",
    "import numpy as np\n",
    "import annabel-data_creation as anna\n",
    "import cnn_functions as cnn\n",
    "from sklearn.metrics import confusion_matrix, classification_report\n",
    "from sklearn.model_selection import train_test_split\n",
    "layers = tf.keras.layers"
   ]
  },
  {
   "cell_type": "code",
   "execution_count": 5,
   "id": "e9667b87",
   "metadata": {},
   "outputs": [],
   "source": [
    "#uploading ATTPC data image file and separating it into events (128x128 images) and targets (labels 0, 1, and 2)\n",
    "imgs = h5py.File('ATTPC_images', 'r')\n",
    "events = np.asarray(imgs['imgs'])\n",
    "targets = np.asarray(imgs['targets'])\n",
    "#print(evts.shape, track.shape)"
   ]
  },
  {
   "cell_type": "code",
   "execution_count": 6,
   "id": "97bb648d",
   "metadata": {},
   "outputs": [
    {
     "data": {
      "text/plain": [
       "<matplotlib.image.AxesImage at 0x7f1382984eb0>"
      ]
     },
     "execution_count": 6,
     "metadata": {},
     "output_type": "execute_result"
    },
    {
     "data": {
      "image/png": "[encoded data removed]",
      "text/plain": [
       "<Figure size 432x288 with 1 Axes>"
      ]
     },
     "metadata": {
      "needs_background": "light"
     },
     "output_type": "display_data"
    }
   ],
   "source": [
    "#normalizing the images so that the values are between -1 and 1\n",
    "events = events / 255\n",
    "#adding a 3-value third dimension to each image so the model can accept it\n",
    "events = np.expand_dims(events, axis=3)\n",
    "events = np.repeat(events, 3, axis=3)\n",
    "\n",
    "# Some checks to make sure the data has been correctly preprocessed\n",
    "#assert events.shape[1:] == (128, 128, 3), 'Real data has incorrect shape'\n",
    "#assert events.min() >= -1 and events.max() <= 1, 'Real data is not in the range [-1, 1]'"
   ]
  },
  {
   "cell_type": "code",
   "execution_count": 8,
   "id": "6ad45e06",
   "metadata": {},
   "outputs": [
    {
     "data": {
      "text/plain": [
       "<matplotlib.image.AxesImage at 0x7f11adcef3d0>"
      ]
     },
     "execution_count": 8,
     "metadata": {},
     "output_type": "execute_result"
    },
    {
     "data": {
      "image/png": "[encoded data removed]",
      "text/plain": [
       "<Figure size 432x288 with 1 Axes>"
      ]
     },
     "metadata": {
      "needs_background": "light"
     },
     "output_type": "display_data"
    }
   ],
   "source": [
    "plt.imshow(events[1,:,:,1])  #move around each line to see how data is affected"
   ]
  },
  {
   "cell_type": "code",
   "execution_count": 7,
   "id": "2d1d97f8",
   "metadata": {},
   "outputs": [],
   "source": [
    "#shuffling the data and splitting it into training and testing sets\n",
    "train_events, test_events, train_targets, test_targets = train_test_split(events, targets, test_size=0.25, random_state=24)\n",
    "#print(train_events.shape, test_events.shape, train_targets.shape, test_targets.shape)\n",
    "\n",
    "input_shape = train_events.shape[1:]  #should be (128, 128, 3)\n",
    "num_classes = len(np.unique(train_targets))   #should be 3"
   ]
  },
  {
   "cell_type": "code",
   "execution_count": 9,
   "id": "ad7ae70e",
   "metadata": {},
   "outputs": [],
   "source": [
    "#builds and compiles a model with the given specifications\n",
    "model = cnn.build_pretrained_vgg_model(input_shape, num_classes)\n",
    "model.compile(optimizer=tf.keras.optimizers.Adam(learning_rate=0.001), loss='sparse_categorical_crossentropy', metrics=['accuracy'])"
   ]
  },
  {
   "cell_type": "code",
   "execution_count": 10,
   "id": "adade068",
   "metadata": {},
   "outputs": [],
   "source": [
    "#checkpointing weights for each epoch\n",
    "cp_dir = './model-checkpoints/'\n",
    "\n",
    "if not os.path.exists(cp_dir):   #makes the directory if it doesn't exist\n",
    "    os.makedirs(cp_dir)\n",
    "    \n",
    "cp_path = os.path.join(cp_dir, 'weights.epoch.{epoch:02d}')\n",
    "cp_callback = tf.keras.callbacks.ModelCheckpoint(cp_path, save_weights_only=True)"
   ]
  },
  {
   "cell_type": "code",
   "execution_count": null,
   "id": "d8971de4",
   "metadata": {},
   "outputs": [
    {
     "name": "stdout",
     "output_type": "stream",
     "text": [
      "Epoch 1/20\n",
      "108/188 [================>.............] - ETA: 5:34 - loss: 1.2599 - accuracy: 0.4296"
     ]
    }
   ],
   "source": [
    "#training the model and plotting its learning curve\n",
    "history = model.fit(train_events, train_targets, batch_size=64, epochs=20, validation_split=0.2, callbacks=[cp_callback])\n",
    "cnn.plot_learning_curve(history)"
   ]
  },
  {
   "cell_type": "code",
   "execution_count": null,
   "id": "21f45b8f",
   "metadata": {},
   "outputs": [],
   "source": [
    "#evaluating the model at the optimal epoch\n",
    "best_epoch = 5\n",
    "best_cp_path = os.path.join(cp_dir, 'weights.epoch.{:02d}'.format(best_epoch))\n",
    "model.load_weights(best_cp_path)\n",
    "\n",
    "test_loss, test_accuracy = model.evaluate(test_events, test_targets, verbose=0)\n",
    "print('Test accuracy: {:.04}'.format(test_accuracy))"
   ]
  }
 ],
 "metadata": {
  "kernelspec": {
   "display_name": "Python 3",
   "language": "python",
   "name": "python3"
  },
  "language_info": {
   "codemirror_mode": {
    "name": "ipython",
    "version": 3
   },
   "file_extension": ".py",
   "mimetype": "text/x-python",
   "name": "python",
   "nbconvert_exporter": "python",
   "pygments_lexer": "ipython3",
   "version": "3.9.0"
  }
 },
 "nbformat": 4,
 "nbformat_minor": 5
}
