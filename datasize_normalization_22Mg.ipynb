{
 "cells": [
  {
   "cell_type": "code",
   "execution_count": 23,
   "id": "54c77966",
   "metadata": {},
   "outputs": [],
   "source": [
    "import random\n",
    "import h5py\n",
    "import numpy as np\n",
    "import tqdm\n",
    "import matplotlib.pyplot as plt\n",
    "from mpl_toolkits import mplot3d"
   ]
  },
  {
   "cell_type": "code",
   "execution_count": 24,
   "id": "26aa6c15",
   "metadata": {},
   "outputs": [],
   "source": [
    "file = h5py.File('output_digi_HDF_Mg22_Ne20pp_8MeV.h5', 'r')\n",
    "#print(file[\"Event_[3]\"][:][:])"
   ]
  },
  {
   "cell_type": "code",
   "execution_count": 25,
   "id": "312869aa",
   "metadata": {},
   "outputs": [],
   "source": [
    "sample_size = 128\n",
    "keys = list(file.keys())\n",
    "length = len(keys)"
   ]
  },
  {
   "cell_type": "code",
   "execution_count": 26,
   "id": "f62d70ed",
   "metadata": {},
   "outputs": [
    {
     "name": "stderr",
     "output_type": "stream",
     "text": [
      "100%|██████████| 10000/10000 [08:29<00:00, 19.62it/s]\n"
     ]
    }
   ],
   "source": [
    "file_name = 'Mg22_size' + str(sample_size) + '.h5'\n",
    "new = h5py.File(file_name, 'a')\n",
    "for n in tqdm.tqdm(range(length)):\n",
    "    name = keys[n]\n",
    "    event = file[name]\n",
    "    ev_len = len(event)\n",
    "    event_data = np.zeros((ev_len, 12), float)\n",
    "    #converting event into an array\n",
    "    for i,e in enumerate(event):\n",
    "        instant = np.array(list(e))\n",
    "        event_data[i] = np.array(instant)    \n",
    "    new_event = np.zeros((sample_size, 13), float)\n",
    "    #making new array for normalized event\n",
    "    if ev_len == sample_size:\n",
    "        new_event[:,:-1] = event_data[:,:]\n",
    "    else:        #length2 != sample_size:\n",
    "        for i in range(sample_size):\n",
    "            row = random.randint(0, ev_len - 1)\n",
    "            new_event[i,:-1] = event_data[row,:]\n",
    "    unique_point_ids = np.unique(event_data[:,5])    #array of unqiue particles IDs\n",
    "    new_event[0,-1] = unique_point_ids.size - 1    #number of unique particles-- i.e. number of tracks-- starting at 0\n",
    "    new.create_dataset(name, data = new_event)"
   ]
  },
  {
   "cell_type": "code",
   "execution_count": 27,
   "id": "69a70880",
   "metadata": {},
   "outputs": [
    {
     "name": "stdout",
     "output_type": "stream",
     "text": [
      "(128, 13)\n",
      "[[ 2.20870667e+01  3.25545006e+01  5.13600000e+02 ...  4.00000000e+00\n",
      "   2.00000000e+00  3.00000000e+00]\n",
      " [ 7.36236668e+00 -7.05056143e+00  5.23200000e+02 ...  1.00000000e+00\n",
      "   1.00000000e+00  0.00000000e+00]\n",
      " [-1.33514404e-05  1.13012161e+01  5.90400000e+02 ...  1.00000000e+00\n",
      "   1.00000000e+00  0.00000000e+00]\n",
      " ...\n",
      " [ 4.90825081e+00  2.83038445e+01  5.48800000e+02 ...  4.00000000e+00\n",
      "   2.00000000e+00  0.00000000e+00]\n",
      " [-2.45412970e+00  1.55518732e+01  5.80800000e+02 ...  4.00000000e+00\n",
      "   2.00000000e+00  0.00000000e+00]\n",
      " [ 2.45413303e+00 -1.84533787e+01  1.68000000e+02 ...  1.00000000e+00\n",
      "   1.00000000e+00  0.00000000e+00]]\n"
     ]
    }
   ],
   "source": [
    "print(new['Event_[3]'].shape)\n",
    "print(new['Event_[3]'][:][:])"
   ]
  },
  {
   "cell_type": "code",
   "execution_count": 28,
   "id": "fc9f9667",
   "metadata": {},
   "outputs": [
    {
     "name": "stderr",
     "output_type": "stream",
     "text": [
      "100%|██████████| 10000/10000 [00:07<00:00, 1363.14it/s]\n"
     ]
    }
   ],
   "source": [
    "#setting aside a test set from the all events dataset\n",
    "name = 'Mg22_size' + str(sample_size)\n",
    "whole = h5py.File(name + '.h5','r')\n",
    "test = h5py.File(name + '_test.h5', 'a')\n",
    "rest = h5py.File(name + '_rest.h5', 'a')\n",
    "keys = list(whole.keys())\n",
    "length = len(keys)\n",
    "test_len = int(0.2*length)\n",
    "test_set_indices = np.random.choice(range(length), test_len, replace=False)\n",
    "for i in tqdm.tqdm(range(length)):\n",
    "    event = whole[keys[i]]\n",
    "    if np.isin(i, test_set_indices, assume_unique=True):\n",
    "        test.create_dataset(keys[i], data = event)\n",
    "    else:\n",
    "        rest.create_dataset(keys[i], data = event)"
   ]
  },
  {
   "cell_type": "code",
   "execution_count": 29,
   "id": "c7fe5aaf",
   "metadata": {},
   "outputs": [
    {
     "name": "stderr",
     "output_type": "stream",
     "text": [
      "100%|██████████| 8000/8000 [00:05<00:00, 1359.61it/s]\n"
     ]
    }
   ],
   "source": [
    "#splits remaining events data into training and validation sets\n",
    "name = 'Mg22_size' + str(sample_size)\n",
    "whole = h5py.File(name + '_rest.h5','r')\n",
    "train = h5py.File(name + '_train.h5', 'a')\n",
    "val = h5py.File(name + '_val.h5', 'a')\n",
    "keys = list(whole.keys())\n",
    "length = len(keys)\n",
    "val_len = int(0.25*length)     #20% of 80%\n",
    "val_set_indices = np.random.choice(range(length), val_len, replace=False)\n",
    "for i in tqdm.tqdm(range(length)):\n",
    "    event = whole[keys[i]]\n",
    "    if np.isin(i, val_set_indices, assume_unique=True):\n",
    "        val.create_dataset(keys[i], data = event)\n",
    "    else:\n",
    "        train.create_dataset(keys[i], data = event)"
   ]
  },
  {
   "cell_type": "code",
   "execution_count": 41,
   "id": "da2961c6",
   "metadata": {},
   "outputs": [
    {
     "name": "stdout",
     "output_type": "stream",
     "text": [
      "6000\n",
      "2000\n",
      "2000\n"
     ]
    }
   ],
   "source": [
    "print(len(list(train.keys())))\n",
    "print(len(list(test.keys())))\n",
    "print(len(list(val.keys())))"
   ]
  },
  {
   "cell_type": "code",
   "execution_count": 30,
   "id": "c84e47ee",
   "metadata": {},
   "outputs": [
    {
     "name": "stdout",
     "output_type": "stream",
     "text": [
      "(array([0, 1, 2, 3, 4, 5]), array([5002,  104, 2554, 2319,   16,    5]))\n"
     ]
    }
   ],
   "source": [
    "data = h5py.File('Mg22_size128.h5', 'a')\n",
    "keys = list(data.keys())\n",
    "#print(keys)\n",
    "num_tracks = np.zeros(len(keys),int)\n",
    "for i in range(len(keys)):\n",
    "    event = data[keys[i]]\n",
    "    num_tracks[i] = int(event[0,12])\n",
    "print(np.unique(num_tracks, return_counts=True))"
   ]
  },
  {
   "cell_type": "code",
   "execution_count": null,
   "id": "b8313b44",
   "metadata": {},
   "outputs": [],
   "source": [
    "file = h5py.File('output_digi_HDF_Mg22_Ne20pp_8MeV.h5', 'r')\n",
    "keys = list(file.keys())\n",
    "length = len(keys)\n",
    "num_tracks = np.zeros(length, int)\n",
    "for n in tqdm.tqdm(range(length)):\n",
    "    name = keys[n]\n",
    "    event = file[name]\n",
    "    ev_len = len(event)\n",
    "    event_data = np.zeros((ev_len, 12), float)\n",
    "    #converting event into an array\n",
    "    for i,e in enumerate(event):\n",
    "        instant = np.array(list(e))\n",
    "        event_data[i] = np.array(instant)    \n",
    "    num_tracks[n] = np.unique(event_data[:,5]).size - 1\n",
    "print(np.unique(num_tracks, return_counts=True))"
   ]
  },
  {
   "cell_type": "code",
   "execution_count": null,
   "id": "b71643e4",
   "metadata": {},
   "outputs": [],
   "source": [
    "#creating data sets with fewer beam events"
   ]
  }
 ],
 "metadata": {
  "kernelspec": {
   "display_name": "Python 3",
   "language": "python",
   "name": "python3"
  },
  "language_info": {
   "codemirror_mode": {
    "name": "ipython",
    "version": 3
   },
   "file_extension": ".py",
   "mimetype": "text/x-python",
   "name": "python",
   "nbconvert_exporter": "python",
   "pygments_lexer": "ipython3",
   "version": "3.9.0"
  }
 },
 "nbformat": 4,
 "nbformat_minor": 5
}
