{
 "cells": [
  {
   "cell_type": "code",
   "execution_count": 1,
   "id": "015a6d3e",
   "metadata": {},
   "outputs": [],
   "source": [
    "import random\n",
    "import h5py\n",
    "import numpy as np\n",
    "import tqdm\n",
    "import matplotlib.pyplot as plt\n",
    "from mpl_toolkits import mplot3d"
   ]
  },
  {
   "cell_type": "code",
   "execution_count": 2,
   "id": "4bcbd515",
   "metadata": {},
   "outputs": [],
   "source": [
    "two = h5py.File('output_digi_HDF_2Body.h5', 'r')\n",
    "three = h5py.File('output_digi_HDF_3Body.h5', 'r')"
   ]
  },
  {
   "cell_type": "code",
   "execution_count": 3,
   "id": "e0b0c984",
   "metadata": {},
   "outputs": [],
   "source": [
    "sample_size = 50\n",
    "len2 = len(list(two.keys()))\n",
    "len3 = len(list(three.keys()))"
   ]
  },
  {
   "cell_type": "code",
   "execution_count": 9,
   "id": "10f020e5",
   "metadata": {},
   "outputs": [
    {
     "name": "stderr",
     "output_type": "stream",
     "text": [
      "100%|██████████| 10000/10000 [04:23<00:00, 37.90it/s]\n"
     ]
    }
   ],
   "source": [
    "file_name = 'AllEvents_size' + str(sample_size) + '.h5'\n",
    "new = h5py.File(file_name, 'a')\n",
    "for i in tqdm.tqdm(range(len2)):\n",
    "    name = 'Event_[' + str(i) + ']'\n",
    "    event2 = two[name]\n",
    "    event3 = three[name]\n",
    "    length2 = len(event2)\n",
    "    length3 = len(event3)\n",
    "    event_data2 = np.zeros((length2, 6), float)\n",
    "    event_data3 = np.zeros((length3, 6), float)\n",
    "    #converting event into an array\n",
    "    for i,e in enumerate(event2):\n",
    "        instant = np.array(list(e))\n",
    "        event_data2[i] = np.array(instant)\n",
    "    for i,e in enumerate(event3):\n",
    "        instant = np.array(list(e))\n",
    "        event_data3[i] = np.array(instant)\n",
    "    \n",
    "    new_event2 = np.zeros((sample_size, 6), float)\n",
    "    new_event3 = np.zeros((sample_size, 6), float)\n",
    "    new_name2 = name + '.2'\n",
    "    new_name3 = name + '.3'\n",
    "    #making new array for normalized event\n",
    "    if length2 != sample_size:\n",
    "        if length2 != 0:\n",
    "            for i in range(sample_size):\n",
    "                row = random.randint(0, length2 - 1)\n",
    "                new_event2[i,:] = event_data2[row,:]\n",
    "        else:\n",
    "            pass\n",
    "    else:\n",
    "        new_event2 = event_data2\n",
    "    if length3 != sample_size:\n",
    "        if length3 != 0:\n",
    "            for i in range(sample_size):\n",
    "                row = random.randint(0, length3 - 1)\n",
    "                new_event3[i,:] = event_data3[row,:]\n",
    "        else:\n",
    "            pass\n",
    "    else:\n",
    "        new_event3 = event_data3\n",
    "    new.create_dataset(new_name2, data = new_event2)\n",
    "    new.create_dataset(new_name3, data = new_event3)"
   ]
  },
  {
   "cell_type": "code",
   "execution_count": 16,
   "id": "0697607d",
   "metadata": {},
   "outputs": [
    {
     "name": "stdout",
     "output_type": "stream",
     "text": [
      "(50, 6)\n",
      "(50, 6)\n"
     ]
    }
   ],
   "source": [
    "print(new['Event_[227].2'].shape)\n",
    "print(new['Event_[227].3'].shape)"
   ]
  },
  {
   "cell_type": "code",
   "execution_count": 36,
   "id": "5f9ae54e",
   "metadata": {},
   "outputs": [
    {
     "name": "stderr",
     "output_type": "stream",
     "text": [
      "100%|██████████| 20000/20000 [00:16<00:00, 1237.80it/s]\n"
     ]
    }
   ],
   "source": [
    "#splits all events data into training and validation sets\n",
    "name = 'AllEvents_size' + str(sample_size)\n",
    "whole = h5py.File(name + '.h5','r')\n",
    "train = h5py.File(name + '_train.h5', 'a')\n",
    "val = h5py.File(name + '_val.h5', 'a')\n",
    "keys = list(whole.keys())\n",
    "length = len(keys)\n",
    "val_len = int(0.2*length)\n",
    "val_set_indices = np.random.choice(range(length), val_len, replace=False)\n",
    "for i in tqdm.tqdm(range(length)):\n",
    "    event = whole[keys[i]]\n",
    "    if np.isin(i, val_set_indices, assume_unique=True):\n",
    "        val.create_dataset(keys[i], data = event)\n",
    "    else:\n",
    "        train.create_dataset(keys[i], data = event)"
   ]
  },
  {
   "cell_type": "code",
   "execution_count": 37,
   "id": "59a5c3f9",
   "metadata": {},
   "outputs": [
    {
     "name": "stdout",
     "output_type": "stream",
     "text": [
      "4000 4000\n",
      "16000 16000\n"
     ]
    }
   ],
   "source": [
    "print(val_len, len(list(val.keys())))\n",
    "print(length - val_len, len(list(train.keys())))"
   ]
  },
  {
   "cell_type": "code",
   "execution_count": 10,
   "id": "8763fd50",
   "metadata": {},
   "outputs": [],
   "source": [
    "#run this if you haven't run the cells above\n",
    "new = h5py.File('AllEvents_size50.h5','r')"
   ]
  },
  {
   "cell_type": "code",
   "execution_count": 63,
   "id": "023d76e5",
   "metadata": {},
   "outputs": [],
   "source": [
    "def get_change(set_name, sample_size, event):\n",
    "    if str(set_name) == 'two':\n",
    "        if len(two[str(event)]) > sample_size:\n",
    "            return 'Downsampled'\n",
    "        elif len(two[str(event)]) < sample_size:\n",
    "            return 'Upsampled'\n",
    "        else:\n",
    "            return ''\n",
    "    else:\n",
    "        if len(three[str(event)]) > sample_size:\n",
    "            return 'Downsampled'\n",
    "        elif len(three[str(event)]) < sample_size:\n",
    "            return 'Upsampled'\n",
    "        else:\n",
    "            return ''"
   ]
  },
  {
   "cell_type": "code",
   "execution_count": 68,
   "id": "96d1c891",
   "metadata": {},
   "outputs": [
    {
     "name": "stdout",
     "output_type": "stream",
     "text": [
      "36 vs. 50 points\n"
     ]
    },
    {
     "data": {
      "image/png": "[encoded data removed]",
      "text/plain": [
       "<Figure size 432x288 with 1 Axes>"
      ]
     },
     "metadata": {
      "needs_background": "light"
     },
     "output_type": "display_data"
    }
   ],
   "source": [
    "event = 249\n",
    "name = 'Event_[' + str(event) + ']'\n",
    "new_name = name + '.2'\n",
    "print(str(len(two[name])) + ' vs. ' + str(sample_size) + ' points')\n",
    "\n",
    "ax = plt.axes(projection='3d')\n",
    "#plotting original event\n",
    "event = two[name]\n",
    "evt_data = np.zeros((len(event[:]),6))\n",
    "for i,e in enumerate(event):\n",
    "    instant = np.array(list(e))\n",
    "    evt_data[i] = np.array(instant)\n",
    "x = evt_data[:,0]\n",
    "y = evt_data[:,1]\n",
    "z = evt_data[:,2]\n",
    "ax.plot3D(x,y,z,\"rp\", label='Original Event')\n",
    "\n",
    "#plotting normalized event\n",
    "event = new2[name]\n",
    "evt_data = np.zeros((sample_size,6))\n",
    "for i,e in enumerate(event):\n",
    "    instant = np.array(list(e))\n",
    "    evt_data[i] = np.array(instant)\n",
    "x = evt_data[:,0]\n",
    "y = evt_data[:,1]\n",
    "z = evt_data[:,2]\n",
    "ax.plot3D(x,y,z,\"bp\", label='Scaled Event')\n",
    "plt.title(name[:5] + ' ' + name[7:-1] + ' ' + get_change('two', sample_size, name))\n",
    "ax.legend()\n",
    "plt.show() "
   ]
  },
  {
   "cell_type": "code",
   "execution_count": null,
   "id": "07663c99",
   "metadata": {},
   "outputs": [],
   "source": []
  }
 ],
 "metadata": {
  "kernelspec": {
   "display_name": "Python 3",
   "language": "python",
   "name": "python3"
  },
  "language_info": {
   "codemirror_mode": {
    "name": "ipython",
    "version": 3
   },
   "file_extension": ".py",
   "mimetype": "text/x-python",
   "name": "python",
   "nbconvert_exporter": "python",
   "pygments_lexer": "ipython3",
   "version": "3.9.0"
  }
 },
 "nbformat": 4,
 "nbformat_minor": 5
}
