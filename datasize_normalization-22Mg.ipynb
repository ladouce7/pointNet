{
 "cells": [
  {
   "cell_type": "code",
   "execution_count": 3,
   "id": "02cdef50",
   "metadata": {},
   "outputs": [],
   "source": [
    "import random\n",
    "import h5py\n",
    "import numpy as np\n",
    "import tqdm\n",
    "import matplotlib.pyplot as plt\n",
    "from mpl_toolkits import mplot3d"
   ]
  },
  {
   "cell_type": "code",
   "execution_count": 4,
   "id": "63598f17",
   "metadata": {},
   "outputs": [],
   "source": [
    "sample_size = 512\n",
    "file = h5py.File('output_digi_HDF_Mg22_Ne20pp_8MeV.h5', 'r')\n",
    "keys = list(file.keys())\n",
    "length = len(keys)"
   ]
  },
  {
   "cell_type": "code",
   "execution_count": 5,
   "id": "1dc24976",
   "metadata": {},
   "outputs": [],
   "source": [
    "#making an array of the lengths of events\n",
    "event_lens = np.zeros(length, int)\n",
    "for i in range(length):\n",
    "    event = keys[i]\n",
    "    event_lens[i] = len(file[event])"
   ]
  },
  {
   "cell_type": "code",
   "execution_count": null,
   "id": "5283f181",
   "metadata": {
    "jupyter": {
     "source_hidden": true
    }
   },
   "outputs": [],
   "source": [
    "#making an array of the events data-- [event #, instance, data value]\n",
    "event_data = np.zeros((length, np.max(event_lens), 12), float)\n",
    "for n in tqdm.tqdm(range(len(keys))):\n",
    "    name = keys[n]\n",
    "    event = file[name]\n",
    "    ev_len = len(event)\n",
    "    #converting event into an array\n",
    "    for i,e in enumerate(event):\n",
    "        instant = np.array(list(e))\n",
    "        event_data[n][i][:] = np.array(instant)    \n",
    "np.save('Mg22_Ne20pp', event_data)"
   ]
  },
  {
   "cell_type": "code",
   "execution_count": 13,
   "id": "46e0922c",
   "metadata": {},
   "outputs": [
    {
     "name": "stdout",
     "output_type": "stream",
     "text": [
      "250.32003784179688 252.3749542236328 897.6\n"
     ]
    }
   ],
   "source": [
    "#finding the maxes of the data\n",
    "data = np.load('Mg22_Ne20pp.npy')\n",
    "xm, ym, zm = 0, 0, 0\n",
    "for i in range(data.shape[0]):\n",
    "    if np.max(data[i,:,0]) > xm:\n",
    "        xm = np.max(data[i,:,0])\n",
    "    if np.max(data[i,:,1]) > ym:\n",
    "        ym = np.max(data[i,:,1])\n",
    "    if np.max(data[i,:,2]) > zm:\n",
    "        zm = np.max(data[i,:,2])      \n",
    "print(xm, ym, zm)"
   ]
  },
  {
   "cell_type": "code",
   "execution_count": 14,
   "id": "ed7c774b",
   "metadata": {},
   "outputs": [
    {
     "name": "stderr",
     "output_type": "stream",
     "text": [
      "100%|██████████| 10000/10000 [00:17<00:00, 572.23it/s]\n"
     ]
    }
   ],
   "source": [
    "#NOT completely random sampling!\n",
    "data = np.load('Mg22_Ne20pp.npy')\n",
    "file_name = 'Mg22_size' + str(sample_size) + '.h5'\n",
    "new = h5py.File(file_name, 'w')\n",
    "for i in tqdm.tqdm(range(length)):\n",
    "    ev_len = event_lens[i]    #length of event-- i.e. number of instances\n",
    "    particle_ids = data[i,:event_lens[i],5]\n",
    "    label, distr = np.unique(particle_ids, return_counts=True)\n",
    "    shortest = label[np.argmin(distr)]\n",
    "    shortest_ind = np.argwhere(particle_ids == shortest)\n",
    "    new_event = np.zeros((sample_size, 13), float)    #empty array for sampled event data\n",
    "    if ev_len == sample_size:    #if array is already preferred length\n",
    "        new_event[:,:-1] = data[i,:ev_len,:]\n",
    "    else:\n",
    "        for n in range(sample_size):    #the first instances sampled will be those belonging to the shortest track\n",
    "            if n < shortest.size:\n",
    "                new_event[n,:-1] = data[i,shortest_ind[n],:]\n",
    "            else:\n",
    "                row = random.randint(0, ev_len - 1)\n",
    "                new_event[n,:-1] = data[i,row,:] \n",
    "    new_event[:,0] /= xm     \n",
    "    new_event[:,1] /= ym    \n",
    "    new_event[:,2] /= zm    \n",
    "    unique_point_ids = np.unique(data[i,:ev_len,5])    #array of unique particle IDs\n",
    "    new_event[0,-1] = unique_point_ids.size - 1    #number of unique particles, scaled to start at 0\n",
    "    new.create_dataset(keys[i], data = new_event)    #creating new dataset within the h5 file for the event"
   ]
  },
  {
   "cell_type": "code",
   "execution_count": 15,
   "id": "bed32fc0",
   "metadata": {},
   "outputs": [
    {
     "name": "stdout",
     "output_type": "stream",
     "text": [
      "[5002  104 2554 2319   16    5]\n",
      "[5002  105 2553 2320   15    5]\n",
      "2\n"
     ]
    }
   ],
   "source": [
    "#cheking how the distribution of labels changes from sampling\n",
    "name = 'Mg22_size' + str(sample_size) + '.h5'\n",
    "data = h5py.File(name, 'r')\n",
    "keys = list(data.keys())\n",
    "real_tracks = np.zeros(len(keys),int)\n",
    "sampled_tracks = np.zeros(len(keys),int)\n",
    "for i in range(len(keys)):\n",
    "    event = data[keys[i]]\n",
    "    real_tracks[i] = event[0,-1]\n",
    "    unique_point_ids = np.unique(event[:,5])    #array of unqiue particles IDs\n",
    "    sampled_tracks[i] = unique_point_ids.size - 1\n",
    "label, og_distr = np.unique(real_tracks, return_counts=True)\n",
    "label, new_distr = np.unique(sampled_tracks, return_counts=True)\n",
    "print(og_distr)\n",
    "print(new_distr)\n",
    "print(np.sum(np.abs(new_distr - og_distr))//2)"
   ]
  },
  {
   "cell_type": "code",
   "execution_count": 8,
   "id": "a6940bdf",
   "metadata": {
    "jupyter": {
     "source_hidden": true
    }
   },
   "outputs": [
    {
     "name": "stderr",
     "output_type": "stream",
     "text": [
      "100%|██████████| 10000/10000 [00:15<00:00, 625.31it/s]\n"
     ]
    }
   ],
   "source": [
    "#creating data sets with fewer beam events and no 2, 5, or 6 track events\n",
    "name = 'Mg22_size' + str(sample_size)\n",
    "data = h5py.File(name + '.h5', 'r')\n",
    "keys = list(data.keys())\n",
    "length = len(keys)\n",
    "new = h5py.File(name + '_edited.h5', 'w')\n",
    "for i in tqdm.tqdm(range(length)):\n",
    "    event = data[keys[i]]\n",
    "    unique_point_ids = np.unique(event[:,5])    \n",
    "    current_tracks = unique_point_ids.size - 1 \n",
    "    og_tracks = event[0,-1]\n",
    "    bad_events = np.array([1,4,5])\n",
    "    #omitting incorrectly labeled events, the latter half of beam events, and 2, 5, and 6 track events\n",
    "    if current_tracks != og_tracks or (og_tracks == 0 and i > 5000) or np.any(og_tracks == bad_events[:]): \n",
    "        continue\n",
    "    else:\n",
    "        new.create_dataset(keys[i], data = event)"
   ]
  },
  {
   "cell_type": "code",
   "execution_count": 16,
   "id": "b8dbc7a8",
   "metadata": {},
   "outputs": [
    {
     "name": "stderr",
     "output_type": "stream",
     "text": [
      "100%|██████████| 10000/10000 [00:07<00:00, 1368.24it/s]\n"
     ]
    }
   ],
   "source": [
    "#creating data sets with only 4-track events\n",
    "name = 'Mg22_size' + str(sample_size)\n",
    "data = h5py.File(name + '.h5', 'r')\n",
    "keys = list(data.keys())\n",
    "length = len(keys)\n",
    "new = h5py.File(name + '_4-track.h5', 'w')\n",
    "for i in tqdm.tqdm(range(length)):\n",
    "    event = data[keys[i]]\n",
    "    new_event = event[:,:]\n",
    "    new_event[:,5] -= 1   #scaling IDs so they start at zero\n",
    "    unique_point_ids = np.unique(event[:,5])    \n",
    "    current_tracks = unique_point_ids.size - 1 \n",
    "    og_tracks = event[0,-1]\n",
    "    #omitting non-4-track events, mislabeled events, and that one event with a particle ID 4\n",
    "    #here's the overall distribution of 4-track events: (array([0, 1, 2, 3, 4]), array([462, 463, 463, 463,   1]))\n",
    "    if og_tracks != 3 or og_tracks != current_tracks or 5 in unique_point_ids:\n",
    "        continue\n",
    "    else:\n",
    "        new.create_dataset(keys[i], data = new_event)"
   ]
  },
  {
   "cell_type": "code",
   "execution_count": 18,
   "id": "43f1959d",
   "metadata": {},
   "outputs": [
    {
     "name": "stdout",
     "output_type": "stream",
     "text": [
      "0.8431372094829288 0.7978884673764158 0.9893048128342246\n"
     ]
    }
   ],
   "source": [
    "#rescaling the data based on the maxes of the 4-tracks events only\n",
    "data = h5py.File('Mg22_size' + str(sample_size) + '_4-track.h5', 'r+')\n",
    "keys = list(data.keys())\n",
    "xm, ym, zm = 0, 0, 0\n",
    "for i in range(len(keys)):\n",
    "    event = data[keys[i]]\n",
    "    if np.max(event[:,0]) > xm:\n",
    "        xm = np.max(event[:,0])\n",
    "    if np.max(event[:,1]) > ym:\n",
    "        ym = np.max(event[:,1])\n",
    "    if np.max(event[:,2]) > zm:\n",
    "        zm = np.max(event[:,2])      \n",
    "print(xm, ym, zm)\n",
    "for i in range(len(keys)):\n",
    "    event = data[keys[i]]\n",
    "    event[:,0] /= xm\n",
    "    event[:,1] /= ym\n",
    "    event[:,2] /= zm"
   ]
  },
  {
   "cell_type": "code",
   "execution_count": 17,
   "id": "35e2aa64",
   "metadata": {
    "collapsed": true,
    "jupyter": {
     "outputs_hidden": true,
     "source_hidden": true
    }
   },
   "outputs": [
    {
     "name": "stdout",
     "output_type": "stream",
     "text": [
      "(array([3]), array([2314]))\n"
     ]
    }
   ],
   "source": [
    "#cheking the distribution\n",
    "data = h5py.File('Mg22_size' + str(sample_size) + '_4-track.h5', 'r')\n",
    "keys = list(data.keys())\n",
    "num_tracks = np.zeros(len(keys),int)\n",
    "for i in range(len(keys)):\n",
    "    event = data[keys[i]]\n",
    "    num_tracks[i] = int(event[0,12])\n",
    "print(np.unique(num_tracks, return_counts=True))"
   ]
  },
  {
   "cell_type": "code",
   "execution_count": 19,
   "id": "9f31d876",
   "metadata": {},
   "outputs": [
    {
     "name": "stderr",
     "output_type": "stream",
     "text": [
      "100%|██████████| 2314/2314 [00:01<00:00, 1649.40it/s]\n"
     ]
    }
   ],
   "source": [
    "#setting aside a test set from the all events dataset\n",
    "name = 'Mg22_size' + str(sample_size) + '_4-track'\n",
    "whole = h5py.File(name + '.h5','r')\n",
    "test = h5py.File(name + '_test.h5', 'w')\n",
    "rest = h5py.File(name + '_rest.h5', 'w')\n",
    "keys = list(whole.keys())\n",
    "length = len(keys)\n",
    "test_len = int(0.2*length)\n",
    "test_set_indices = np.random.choice(range(length), test_len, replace=False)\n",
    "for i in tqdm.tqdm(range(length)):\n",
    "    event = whole[keys[i]]\n",
    "    if np.isin(i, test_set_indices, assume_unique=True):\n",
    "        test.create_dataset(keys[i], data = event)\n",
    "    else:\n",
    "        rest.create_dataset(keys[i], data = event)"
   ]
  },
  {
   "cell_type": "code",
   "execution_count": 20,
   "id": "89a9d108",
   "metadata": {},
   "outputs": [
    {
     "name": "stderr",
     "output_type": "stream",
     "text": [
      "100%|██████████| 1852/1852 [00:01<00:00, 1686.88it/s]\n"
     ]
    }
   ],
   "source": [
    "#splits remaining events data into training and validation sets\n",
    "name = 'Mg22_size' + str(sample_size) + '_4-track'\n",
    "whole = h5py.File(name + '_rest.h5','r')\n",
    "train = h5py.File(name + '_train.h5', 'w')\n",
    "val = h5py.File(name + '_val.h5', 'w')\n",
    "keys = list(whole.keys())\n",
    "length = len(keys)\n",
    "val_len = int(0.25*length)     #20% of 80%\n",
    "val_set_indices = np.random.choice(range(length), val_len, replace=False)\n",
    "for i in tqdm.tqdm(range(length)):\n",
    "    event = whole[keys[i]]\n",
    "    if np.isin(i, val_set_indices, assume_unique=True):\n",
    "        val.create_dataset(keys[i], data = event)\n",
    "    else:\n",
    "        train.create_dataset(keys[i], data = event)"
   ]
  },
  {
   "cell_type": "code",
   "execution_count": 22,
   "id": "bca58d6f",
   "metadata": {},
   "outputs": [
    {
     "name": "stdout",
     "output_type": "stream",
     "text": [
      "(array([0, 1, 2, 3]), array([1389, 1389, 1389, 1389]))\n",
      "216751 25943 165858 302616\n",
      "711168\n"
     ]
    }
   ],
   "source": [
    "data = h5py.File('Mg22_size' + str(sample_size) + '_4-track_train.h5', 'r')\n",
    "keys = list(data.keys())\n",
    "length = len(keys)\n",
    "point_ids = np.zeros((length,4),int)\n",
    "counts = np.zeros((length,4),int)\n",
    "for i in range(len(keys)):\n",
    "    event = data[keys[i]]\n",
    "    point_ids[i], counts[i] = np.unique(event[:,5], return_counts=True)\n",
    "point_ids = point_ids.flatten()\n",
    "counts = counts.flatten()\n",
    "zeros = np.sum(counts[range(0,counts.size, 4)])\n",
    "ones = np.sum(counts[range(1,counts.size, 4)])\n",
    "twos = np.sum(counts[range(2,counts.size, 4)])\n",
    "threes = np.sum(counts[range(3,counts.size, 4)])\n",
    "print(np.unique(point_ids, return_counts=True))\n",
    "print(zeros,ones,twos,threes)\n",
    "print(zeros+ones+twos+threes)"
   ]
  },
  {
   "cell_type": "code",
   "execution_count": null,
   "id": "92daf5d9",
   "metadata": {},
   "outputs": [],
   "source": []
  }
 ],
 "metadata": {
  "kernelspec": {
   "display_name": "Python 3",
   "language": "python",
   "name": "python3"
  },
  "language_info": {
   "codemirror_mode": {
    "name": "ipython",
    "version": 3
   },
   "file_extension": ".py",
   "mimetype": "text/x-python",
   "name": "python",
   "nbconvert_exporter": "python",
   "pygments_lexer": "ipython3",
   "version": "3.9.0"
  }
 },
 "nbformat": 4,
 "nbformat_minor": 5
}
